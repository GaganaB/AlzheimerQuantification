{
  "nbformat": 4,
  "nbformat_minor": 0,
  "metadata": {
    "colab": {
      "name": "Untitled9.ipynb",
      "provenance": [],
      "collapsed_sections": [],
      "toc_visible": true,
      "authorship_tag": "ABX9TyNJS2Vd9LFLdE5suKGSW4ql"
    },
    "kernelspec": {
      "name": "python3",
      "display_name": "Python 3"
    }
  },
  "cells": [
    {
      "cell_type": "markdown",
      "metadata": {
        "id": "l4bVdD4qOAvo",
        "colab_type": "text"
      },
      "source": [
        "# Classification of Alzheimer's Diseases using Quantification of HippoCampal Volume\n",
        "\n",
        "### Exploratory Data Analysis - Section 2 - Utility functions\n",
        "\n",
        "This task involves building recursive UNet model, training, logging and testing. "
      ]
    },
    {
      "cell_type": "code",
      "metadata": {
        "id": "g08K4QTqjIuR",
        "colab_type": "code",
        "colab": {}
      },
      "source": [
        "import numpy as np\n",
        "from sklearn.metrics import jaccard_similarity_score as jsc"
      ],
      "execution_count": 0,
      "outputs": []
    },
    {
      "cell_type": "markdown",
      "metadata": {
        "id": "eiCYVFxLrEcd",
        "colab_type": "text"
      },
      "source": [
        "This module contains various functions for computing statistics over 3D volumes"
      ]
    },
    {
      "cell_type": "code",
      "metadata": {
        "id": "nLYFXwsYqcJ-",
        "colab_type": "code",
        "colab": {}
      },
      "source": [
        "def Dice3d(a, b):\n",
        "    \"\"\"\n",
        "    This will compute the Dice Similarity coefficient for two 3-dimensional volumes\n",
        "    Volumes are expected to be of the same size. We are expecting binary masks -\n",
        "    0's are treated as background and anything else is counted as data\n",
        "\n",
        "    Arguments:\n",
        "        a {Numpy array} -- 3D array with first volume\n",
        "        b {Numpy array} -- 3D array with second volume\n",
        "\n",
        "    Returns:\n",
        "        float\n",
        "    \"\"\"\n",
        "    if len(a.shape) != 3 or len(b.shape) != 3:\n",
        "        raise Exception(f\"Expecting 3 dimensional inputs, got {a.shape} and {b.shape}\")\n",
        "\n",
        "    if a.shape != b.shape:\n",
        "        raise Exception(f\"Expecting inputs of the same shape, got {a.shape} and {b.shape}\")\n",
        "\n",
        "    # not the most efficient implementation, consider counting TP, FP, FN explicitly\n",
        "    intersection = sum([1 if (a[x, y, z] != 0 and b[x, y, z] != 0) else 0 for x in range(a.shape[0]) for y in range(a.shape[1]) for z in range(a.shape[2])])\n",
        "    volumes = sum(np.ones(a[a != 0].shape)) + sum(np.ones(b[b != 0].shape))\n",
        "\n",
        "    if volumes == 0:\n",
        "        return -1\n",
        "\n",
        "    return 2.*float(intersection) / float(volumes)\n"
      ],
      "execution_count": 0,
      "outputs": []
    },
    {
      "cell_type": "markdown",
      "metadata": {
        "id": "aUYLq2fcrM8f",
        "colab_type": "text"
      },
      "source": [
        "For explanation of dice scores refer to standout.pdf of Section 2"
      ]
    },
    {
      "cell_type": "code",
      "metadata": {
        "id": "CHB866_yrTQI",
        "colab_type": "code",
        "colab": {}
      },
      "source": [
        "def Jaccard3d(a, b):\n",
        "    \"\"\"\n",
        "    This will compute the Jaccard Similarity coefficient for two 3-dimensional volumes\n",
        "    Volumes are expected to be of the same size. We are expecting binary masks - \n",
        "    0's are treated as background and anything else is counted as data\n",
        "\n",
        "    Arguments:\n",
        "        a {Numpy array} -- 3D array with first volume\n",
        "        b {Numpy array} -- 3D array with second volume\n",
        "\n",
        "    Returns:\n",
        "        float\n",
        "    \"\"\"\n",
        "    if len(a.shape) != 3 or len(b.shape) != 3:\n",
        "        raise Exception(f\"Expecting 3 dimensional inputs, got {a.shape} and {b.shape}\")\n",
        "\n",
        "    if a.shape != b.shape:\n",
        "        raise Exception(f\"Expecting inputs of the same shape, got {a.shape} and {b.shape}\")\n",
        "\n",
        "    # Write implementation of Jaccard similarity coefficient. Please do not use \n",
        "    # the Dice3d function from above to do the computation ;)\n",
        "    return jsc(a,b)"
      ],
      "execution_count": 0,
      "outputs": []
    },
    {
      "cell_type": "markdown",
      "metadata": {
        "id": "d2Lm93uwrbxA",
        "colab_type": "text"
      },
      "source": [
        "Use the following reference: https://stackoverflow.com/questions/48260415/pytorch-how-to-compute-iou-jaccard-index-for-semantic-segmentation for implementation of jaccard similarity coefficient from pytorch. (Look through the mathematics and the implementation should be fairly simple.) For more details, look through standout.pdf from Section2"
      ]
    }
  ]
}
